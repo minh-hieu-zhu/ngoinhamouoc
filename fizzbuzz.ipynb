{
 "cells": [
  {
   "cell_type": "code",
   "execution_count": null,
   "id": "7968bb97",
   "metadata": {},
   "outputs": [],
   "source": [
    "a = int(input('nhập số nguyên a:'))\n",
    "b = int(input('nhập số nguyên b:'))\n",
    "for i in range(a,b +1 ,1):\n",
    "    print(i)\n",
    "    if i % 3 ==0 and i % 5==0:\n",
    "        print(i,'FizzBuzz')\n",
    "        i +=1\n",
    "    elif i % 3 ==0:\n",
    "        print(i,'Fizz')\n",
    "        i +=1\n",
    "    elif i % 5 ==0:\n",
    "        print(i,'Buzz')\n",
    "        i +=1\n",
    "  "
   ]
  }
 ],
 "metadata": {
  "kernelspec": {
   "display_name": "Python 3 (ipykernel)",
   "language": "python",
   "name": "python3"
  },
  "language_info": {
   "codemirror_mode": {
    "name": "ipython",
    "version": 3
   },
   "file_extension": ".py",
   "mimetype": "text/x-python",
   "name": "python",
   "nbconvert_exporter": "python",
   "pygments_lexer": "ipython3",
   "version": "3.10.7"
  }
 },
 "nbformat": 4,
 "nbformat_minor": 5
}
