{
 "cells": [
  {
   "cell_type": "code",
   "execution_count": 10,
   "id": "15f312bd",
   "metadata": {},
   "outputs": [
    {
     "name": "stdout",
     "output_type": "stream",
     "text": [
      "nhập số tiền USD cần chuyển:23\n",
      "số tiền VND: 549.585\n"
     ]
    }
   ],
   "source": [
    "a = float(input('nhập số tiền USD cần chuyển:'))\n",
    "ty_gia = 23.895\n",
    "vnd = a * ty_gia\n",
    "print('số tiền VND:',vnd)"
   ]
  }
 ],
 "metadata": {
  "kernelspec": {
   "display_name": "Python 3 (ipykernel)",
   "language": "python",
   "name": "python3"
  },
  "language_info": {
   "codemirror_mode": {
    "name": "ipython",
    "version": 3
   },
   "file_extension": ".py",
   "mimetype": "text/x-python",
   "name": "python",
   "nbconvert_exporter": "python",
   "pygments_lexer": "ipython3",
   "version": "3.10.7"
  }
 },
 "nbformat": 4,
 "nbformat_minor": 5
}
