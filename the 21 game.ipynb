{
 "cells": [
  {
   "cell_type": "code",
   "execution_count": 7,
   "id": "94b39992",
   "metadata": {
    "scrolled": false
   },
   "outputs": [
    {
     "name": "stdout",
     "output_type": "stream",
     "text": [
      "computer\n",
      "máy tính chọn: 3\n",
      "người chơi nhập số:2\n",
      "máy tính chọn: 1\n",
      "người chơi nhập số:1\n",
      "máy tính chọn: 3\n",
      "người chơi nhập số:2\n",
      "máy tính chọn: 2\n",
      "người chơi nhập số:3\n",
      "máy tính chọn: 1\n",
      "người chơi nhập số:2\n",
      "máy tính chọn: 2\n",
      "người chơi nhập số:3\n",
      "máy tính chọn: 2\n",
      "người chơi nhập số:2\n",
      "máy tính chọn: 1\n",
      "người chơi nhập số:3\n",
      "máy tính chọn: 2\n",
      "người chơi nhập số:1\n",
      "máy tính chọn: 1\n",
      "người chơi nhập số:2\n",
      "điểm hiện tại của máy tính: 18\n",
      "điểm hiện tại của người chơi: 21\n",
      "máy tính thắng\n",
      "máy tính chọn: 2\n",
      "người chơi nhập số:3\n",
      "điểm hiện tại của máy tính: 20\n",
      "điểm hiện tại của người chơi: 24\n",
      "máy tính thắng\n"
     ]
    }
   ],
   "source": [
    "import random\n",
    "number = '1','2','3'\n",
    "current_number1 = 0\n",
    "current_number2 = 0\n",
    "dem =0\n",
    "current_player = random.randint(0,1)\n",
    "if current_player ==0:\n",
    "    print('human')\n",
    "else:\n",
    "    print('computer')\n",
    "while current_number1 <=21 and current_number2 <= 21:\n",
    "    if current_player == 1:\n",
    "            computer_choice = random.randint(1,3)\n",
    "            print('máy tính chọn:', computer_choice)\n",
    "            current_number2 += computer_choice\n",
    "            dem +=1\n",
    "            if dem >=1:\n",
    "                current_player == 0\n",
    "                player_choice = input('người chơi nhập số:')\n",
    "                while not player_choice in number:\n",
    "                    print('hãy nhập lại')\n",
    "                    player_choice = input('người chơi nhập số:')\n",
    "                    break\n",
    "                player_choice =int(player_choice)\n",
    "                current_number1 += player_choice\n",
    "                if current_number2 >= 21 or current_number1 >=21:\n",
    "                    print('điểm hiện tại của máy tính:',current_number2)\n",
    "                    print('điểm hiện tại của người chơi:', current_number1)\n",
    "                    if current_number1 > current_number2:\n",
    "                        print('máy tính thắng')\n",
    "                    else:\n",
    "                        print('người chơi thắng')\n",
    "\n"
   ]
  },
  {
   "cell_type": "code",
   "execution_count": null,
   "id": "2f9b2447",
   "metadata": {},
   "outputs": [
    {
     "name": "stdout",
     "output_type": "stream",
     "text": [
      "computer\n"
     ]
    }
   ],
   "source": [
    "import random\n",
    "number = '1','2','3'\n",
    "current_number1 = 0\n",
    "current_number2 = 0\n",
    "dem =0\n",
    "current_player = random.randint(0,1)\n",
    "if current_player ==0:\n",
    "    print('human')\n",
    "else:\n",
    "    print('computer')\n",
    "while current_number1 <=21 and current_number2 <= 21:\n",
    "    if current_player == 0:\n",
    "        player_choice = input('người chơi nhập số:')\n",
    "        while not player_choice in number:\n",
    "            print('hãy nhập lại')\n",
    "            player_choice = input('người chơi nhập số:')\n",
    "            break\n",
    "        player_choice =int(player_choice)\n",
    "        current_number1 += player_choice\n",
    "        dem +=1\n",
    "        if dem >1:\n",
    "            current_player == 1\n",
    "            computer_choice = random.randint(1,3)\n",
    "            print('máy tính chọn:', computer_choice)\n",
    "            current_number2 += computer_choice\n",
    "            if current_number2 >= 21 or current_number1 >=21:\n",
    "                print('điểm hiện tại của máy tính:',current_number2)\n",
    "                print('điểm hiện tại của người chơi:', current_number1)\n",
    "                if current_number1 > current_number2:\n",
    "                    print('máy tính thắng')\n",
    "                else:\n",
    "                    print('người chơi thắng')\n",
    "\n",
    "    "
   ]
  },
  {
   "cell_type": "markdown",
   "id": "f1ef3aed",
   "metadata": {},
   "source": [
    "\n"
   ]
  }
 ],
 "metadata": {
  "kernelspec": {
   "display_name": "Python 3 (ipykernel)",
   "language": "python",
   "name": "python3"
  },
  "language_info": {
   "codemirror_mode": {
    "name": "ipython",
    "version": 3
   },
   "file_extension": ".py",
   "mimetype": "text/x-python",
   "name": "python",
   "nbconvert_exporter": "python",
   "pygments_lexer": "ipython3",
   "version": "3.10.7"
  }
 },
 "nbformat": 4,
 "nbformat_minor": 5
}
