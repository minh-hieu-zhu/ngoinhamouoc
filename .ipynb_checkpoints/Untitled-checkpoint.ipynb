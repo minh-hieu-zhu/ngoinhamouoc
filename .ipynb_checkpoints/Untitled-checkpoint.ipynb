{
 "cells": [
  {
   "cell_type": "code",
   "execution_count": 1,
   "id": "70124e08",
   "metadata": {},
   "outputs": [],
   "source": [
    "import turtle\n",
    "\n",
    "t = turtle.Turtle()\n",
    "\n",
    "t.speed(10)\n",
    "turtle.bgcolor('light blue');\n",
    "for i in range(2):\n",
    "    t.fd(200)\n",
    "    t.rt(90)\n",
    "    t.fd(100)\n",
    "    t.rt(90)\n",
    "t.lt(45)\n",
    "t.fd(80)\n",
    "t.rt(90)\n",
    "t.fd(80)\n",
    "t.penup()\n",
    "t.lt(180)\n",
    "t.fd(20)\n",
    "t.pendown()\n",
    "t.rt(45)\n",
    "t.fd(40)"
   ]
  }
 ],
 "metadata": {
  "kernelspec": {
   "display_name": "Python 3 (ipykernel)",
   "language": "python",
   "name": "python3"
  },
  "language_info": {
   "codemirror_mode": {
    "name": "ipython",
    "version": 3
   },
   "file_extension": ".py",
   "mimetype": "text/x-python",
   "name": "python",
   "nbconvert_exporter": "python",
   "pygments_lexer": "ipython3",
   "version": "3.10.7"
  }
 },
 "nbformat": 4,
 "nbformat_minor": 5
}
