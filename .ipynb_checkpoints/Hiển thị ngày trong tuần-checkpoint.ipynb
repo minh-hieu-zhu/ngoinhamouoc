{
 "cells": [
  {
   "cell_type": "code",
   "execution_count": 11,
   "id": "71c5088b",
   "metadata": {},
   "outputs": [
    {
     "name": "stdout",
     "output_type": "stream",
     "text": [
      "nhập thứ: 6\n",
      "Saturday\n"
     ]
    }
   ],
   "source": [
    "ngay = int(input(\"nhập thứ: \"))\n",
    "if ngay == 1:\n",
    "    print(\"Monday\")\n",
    "elif ngay == 2:\n",
    "    print(\"Tuesday\")\n",
    "elif ngay == 3:\n",
    "    print(\"Wednesday\")\n",
    "elif ngay == 4:\n",
    "    print(\"Thursday\")\n",
    "elif ngay == 5:\n",
    "    print(\"Friday\")\n",
    "elif ngay == 6:\n",
    "    print(\"Saturday\")\n",
    "elif ngay == 7:\n",
    "    print(\"Sunday\")\n",
    "else:\n",
    "    print(\"Error, out of range\")"
   ]
  }
 ],
 "metadata": {
  "kernelspec": {
   "display_name": "Python 3 (ipykernel)",
   "language": "python",
   "name": "python3"
  },
  "language_info": {
   "codemirror_mode": {
    "name": "ipython",
    "version": 3
   },
   "file_extension": ".py",
   "mimetype": "text/x-python",
   "name": "python",
   "nbconvert_exporter": "python",
   "pygments_lexer": "ipython3",
   "version": "3.10.7"
  }
 },
 "nbformat": 4,
 "nbformat_minor": 5
}
