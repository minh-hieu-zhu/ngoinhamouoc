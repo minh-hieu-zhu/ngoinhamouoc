{
 "cells": [
  {
   "cell_type": "code",
   "execution_count": 3,
   "id": "fb709bf6",
   "metadata": {},
   "outputs": [
    {
     "name": "stdout",
     "output_type": "stream",
     "text": [
      "nhập số tiền khách hàng đã chi tiêu:123\n",
      "Tổng tiền cần thanh toán:  98.0\n"
     ]
    }
   ],
   "source": [
    "tien = float(input('nhập số tiền khách hàng đã chi tiêu:'))\n",
    "if tien >= 150:\n",
    "    print(\"Tổng tiền cần thanh toán: \", tien - 50)\n",
    "elif tien >= 100:\n",
    "    print(\"Tổng tiền cần thanh toán: \", tien - 25)\n",
    "elif tien >= 75:\n",
    "    print(\"Tổng tiền cần thanh toán: \", tien - 15)\n",
    "else:\n",
    "    print(\"Tổng tiền cần thanh toán: \", tien)"
   ]
  }
 ],
 "metadata": {
  "kernelspec": {
   "display_name": "Python 3 (ipykernel)",
   "language": "python",
   "name": "python3"
  },
  "language_info": {
   "codemirror_mode": {
    "name": "ipython",
    "version": 3
   },
   "file_extension": ".py",
   "mimetype": "text/x-python",
   "name": "python",
   "nbconvert_exporter": "python",
   "pygments_lexer": "ipython3",
   "version": "3.10.7"
  }
 },
 "nbformat": 4,
 "nbformat_minor": 5
}
