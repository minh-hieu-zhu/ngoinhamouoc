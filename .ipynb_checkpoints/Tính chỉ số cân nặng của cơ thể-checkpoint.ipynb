{
 "cells": [
  {
   "cell_type": "code",
   "execution_count": 1,
   "id": "81308293",
   "metadata": {},
   "outputs": [
    {
     "name": "stdout",
     "output_type": "stream",
     "text": [
      "nhập cân nặng:43\n",
      "nhập chiều cao:154\n",
      "gầy cấp độ III\n"
     ]
    }
   ],
   "source": [
    "nang= float(input('nhập cân nặng:'))\n",
    "cao= float(input('nhập chiều cao:'))\n",
    "bmi = nang/ (cao*cao)\n",
    "if bmi<16: \n",
    "    print('gầy cấp độ III')\n",
    "elif bmi<17:\n",
    "    print('gầy cấp độ II')\n",
    "elif bmi < 18.5:\n",
    "    print('gầy cấp dộ I')\n",
    "elif bmi<25:\n",
    "    print('bình thường')\n",
    "elif bmi<30:\n",
    "    print('thừa cân')\n",
    "elif bmi<35:\n",
    "    print('béo phì cấp I')\n",
    "elif bmi < 40:\n",
    "    print('béo phì cấp II')\n",
    "else: print('béo phì cấp III ')"
   ]
  }
 ],
 "metadata": {
  "kernelspec": {
   "display_name": "Python 3 (ipykernel)",
   "language": "python",
   "name": "python3"
  },
  "language_info": {
   "codemirror_mode": {
    "name": "ipython",
    "version": 3
   },
   "file_extension": ".py",
   "mimetype": "text/x-python",
   "name": "python",
   "nbconvert_exporter": "python",
   "pygments_lexer": "ipython3",
   "version": "3.10.7"
  }
 },
 "nbformat": 4,
 "nbformat_minor": 5
}
