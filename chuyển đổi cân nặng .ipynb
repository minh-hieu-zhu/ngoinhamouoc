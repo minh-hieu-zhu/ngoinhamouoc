{
 "cells": [
  {
   "cell_type": "code",
   "execution_count": 2,
   "id": "76ab4a0a",
   "metadata": {},
   "outputs": [],
   "source": [
    "from tkinter import *\n",
    "sc =Tk()\n",
    "sc.title('chuyển đổi cân nặng')\n",
    "sc.geometry(\"800x300\")\n",
    "\n",
    "def chuyendoi():\n",
    "    num = var_et1.get()\n",
    "    chiso = float(num)\n",
    "    gram = (chiso*1000)\n",
    "    lb2_gram.config(text = gram)\n",
    "    po= (chiso*2.20462)\n",
    "    lb3_po.config(text = po)\n",
    "    ou= (chiso*35.274)\n",
    "    lb4_ou.config(text = ou)\n",
    "    \n",
    "\n",
    "\n",
    "\n",
    "\n",
    "lb1= Label(sc, text='Enter the weight in Kg', font=('Arial',15),width = 20)\n",
    "var_et1 = StringVar()\n",
    "et1 = Entry(sc,textvariable = var_et1, font=('Arial',15),width = 20)\n",
    "bt1= Button(sc,text='Convert', font=('Arial',15),width = 20,command=chuyendoi)\n",
    "lb2= Label(sc,text='Gram', font=('Arial',15),width = 20)\n",
    "lb3= Label(sc,text='Pounds', font=('Arial',15),width = 20)\n",
    "lb4= Label(sc,text='Ounce', font=('Arial',15),width = 20)\n",
    "lb2_gram= Label(sc,text='', font=('Arial',15),width = 20)\n",
    "lb3_po= Label(sc,text='', font=('Arial',15),width = 20)\n",
    "lb4_ou= Label(sc,text='', font=('Arial',15),width = 20)\n",
    "\n",
    "lb1.grid(row=1,column=1)\n",
    "et1.grid(row=1,column=2)\n",
    "bt1.grid(row=1,column=3)\n",
    "lb2.grid(row=2,column=1)\n",
    "lb3.grid(row=2,column=2)\n",
    "lb4.grid(row=2,column=3)\n",
    "lb2_gram.grid(row=3,column=1)\n",
    "lb3_po.grid(row=3,column=2)\n",
    "lb4_ou.grid(row=3,column=3)\n",
    "\n",
    "\n",
    "\n",
    "\n",
    "\n",
    "\n",
    "\n",
    "\n",
    "sc.mainloop()"
   ]
  },
  {
   "cell_type": "code",
   "execution_count": null,
   "id": "4890baa1",
   "metadata": {},
   "outputs": [],
   "source": [
    "num = var_et1.get()\n",
    "chiso = float(num)\n",
    "gram = (chiso*1000)\n",
    "lb2_gram.config(text = gram)\n",
    "po= (chiso*2.20462)\n",
    "lb3_po.config(text = po)\n",
    "ou= (chiso*35.274)\n",
    "lb4_ou.config(text = ou)\n"
   ]
  }
 ],
 "metadata": {
  "kernelspec": {
   "display_name": "Python 3 (ipykernel)",
   "language": "python",
   "name": "python3"
  },
  "language_info": {
   "codemirror_mode": {
    "name": "ipython",
    "version": 3
   },
   "file_extension": ".py",
   "mimetype": "text/x-python",
   "name": "python",
   "nbconvert_exporter": "python",
   "pygments_lexer": "ipython3",
   "version": "3.10.7"
  }
 },
 "nbformat": 4,
 "nbformat_minor": 5
}
