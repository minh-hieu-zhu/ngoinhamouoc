{
 "cells": [
  {
   "cell_type": "code",
   "execution_count": 1,
   "id": "a9b2b939",
   "metadata": {},
   "outputs": [
    {
     "name": "stdout",
     "output_type": "stream",
     "text": [
      "họ và tên: Đỗ Minh Huy Hiệu\n",
      "sinh\"29/12/2004\n",
      "địa chỉ: Mễ Trì Hạ, Mễ Trì, quận Nam Từ Liêm\n",
      "mục đích: học python\n"
     ]
    }
   ],
   "source": [
    "print('họ và tên: Đỗ Minh Huy Hiệu','sinh\"29/12/2004','địa chỉ: Mễ Trì Hạ, Mễ Trì, quận Nam Từ Liêm','mục đích: học python',sep=\"\\n\")"
   ]
  }
 ],
 "metadata": {
  "kernelspec": {
   "display_name": "Python 3 (ipykernel)",
   "language": "python",
   "name": "python3"
  },
  "language_info": {
   "codemirror_mode": {
    "name": "ipython",
    "version": 3
   },
   "file_extension": ".py",
   "mimetype": "text/x-python",
   "name": "python",
   "nbconvert_exporter": "python",
   "pygments_lexer": "ipython3",
   "version": "3.10.7"
  }
 },
 "nbformat": 4,
 "nbformat_minor": 5
}
