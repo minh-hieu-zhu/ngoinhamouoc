{
 "cells": [
  {
   "cell_type": "code",
   "execution_count": 2,
   "id": "9b53d39d",
   "metadata": {},
   "outputs": [
    {
     "name": "stdout",
     "output_type": "stream",
     "text": [
      "nhập số:23\n",
      "23 là số lẻ\n"
     ]
    }
   ],
   "source": [
    "a = int(input('nhập số:'))\n",
    "if a%2==0:\n",
    "    print(a,'là số chẵn')\n",
    "else:\n",
    "    print(a,'là số lẻ')"
   ]
  }
 ],
 "metadata": {
  "kernelspec": {
   "display_name": "Python 3 (ipykernel)",
   "language": "python",
   "name": "python3"
  },
  "language_info": {
   "codemirror_mode": {
    "name": "ipython",
    "version": 3
   },
   "file_extension": ".py",
   "mimetype": "text/x-python",
   "name": "python",
   "nbconvert_exporter": "python",
   "pygments_lexer": "ipython3",
   "version": "3.10.7"
  }
 },
 "nbformat": 4,
 "nbformat_minor": 5
}
